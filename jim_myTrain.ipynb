{
 "cells": [
  {
   "cell_type": "code",
   "execution_count": 2,
   "id": "79b69412",
   "metadata": {},
   "outputs": [
    {
     "name": "stderr",
     "output_type": "stream",
     "text": [
      "usage: ipykernel_launcher.py [-h] [-ds DATASET] [-t TASK]\n",
      "                             [-path PATH] [-sample SAMPLE]\n",
      "                             [-patience PATIENCE]\n",
      "                             [-es EARLYSTOP]\n",
      "                             [-all_vocab ALL_VOCAB]\n",
      "                             [-imbsamp IMBALANCE_SAMPLER]\n",
      "                             [-data_ratio DATA_RATIO]\n",
      "                             [-um UNK_MASK] [-bsz BATCH]\n",
      "                             [-rundev RUN_DEV_TESTING]\n",
      "                             [-viz VIZUALIZATION]\n",
      "                             [-gs GENSAMPLE] [-evalp EVALP]\n",
      "                             [-an ADDNAME] [-eb EVAL_BATCH]\n",
      "                             [-gate USE_GATE]\n",
      "                             [-le LOAD_EMBEDDING]\n",
      "                             [-femb FIX_EMBEDDING]\n",
      "                             [-paral PARALLEL_DECODE]\n",
      "                             [-dec DECODER] [-hdd HIDDEN]\n",
      "                             [-lr LEARN] [-dr DROP] [-lm LIMIT]\n",
      "                             [-clip CLIP]\n",
      "                             [-tfr TEACHER_FORCING_RATIO]\n",
      "                             [-l_ewc LAMBDA_EWC]\n",
      "                             [-fisher_sample FISHER_SAMPLE]\n",
      "                             [--all_model] [--domain_as_task]\n",
      "                             [--run_except_4d RUN_EXCEPT_4D]\n",
      "                             [--strict_domain]\n",
      "                             [-exceptd EXCEPT_DOMAIN]\n",
      "                             [-onlyd ONLY_DOMAIN]\n",
      "ipykernel_launcher.py: error: ambiguous option: -f could match -femb, -fisher_sample\n"
     ]
    },
    {
     "ename": "SystemExit",
     "evalue": "2",
     "output_type": "error",
     "traceback": [
      "An exception has occurred, use %tb to see the full traceback.\n",
      "\u001b[0;31mSystemExit\u001b[0m\u001b[0;31m:\u001b[0m 2\n"
     ]
    }
   ],
   "source": [
    "from tqdm import tqdm\n",
    "import torch.nn as nn\n",
    "\n",
    "from utils.config import *\n",
    "from models.TRADE import *\n",
    "\n",
    "'''\n",
    "python myTrain.py -dec= -bsz= -hdd= -dr= -lr=\n",
    "'''\n",
    "\n",
    "early_stop = args['earlyStop']\n",
    "\n",
    "if args['dataset']=='multiwoz':\n",
    "    from utils.utils_multiWOZ_DST import *\n",
    "    early_stop = None\n",
    "else:\n",
    "    print(\"You need to provide the --dataset information\")\n",
    "    exit(1)\n",
    "\n",
    "# Configure models and load data\n",
    "avg_best, cnt, acc = 0.0, 0, 0.0\n",
    "train, dev, test, test_special, lang, SLOTS_LIST, gating_dict, max_word = prepare_data_seq(True, args['task'], False, batch_size=int(args['batch']))\n",
    "model = globals()[args['decoder']](\n",
    "    hidden_size=int(args['hidden']), \n",
    "    lang=lang, \n",
    "    path=args['path'], \n",
    "    task=args['task'], \n",
    "    lr=float(args['learn']), \n",
    "    dropout=float(args['drop']),\n",
    "    slots=SLOTS_LIST,\n",
    "    gating_dict=gating_dict, \n",
    "    nb_train_vocab=max_word)\n",
    "\n",
    "# print(\"[Info] Slots include \", SLOTS_LIST)\n",
    "# print(\"[Info] Unpointable Slots include \", gating_dict)\n",
    "\n",
    "\n",
    "\n"
   ]
  },
  {
   "cell_type": "code",
   "execution_count": null,
   "id": "a64ffd68",
   "metadata": {},
   "outputs": [],
   "source": [
    "for epoch in range(200):\n",
    "    print(\"Epoch:{}\".format(epoch))  \n",
    "    # Run the train function\n",
    "    pbar = tqdm(enumerate(train),total=len(train))\n",
    "    for i, data in pbar:\n",
    "        model.train_batch(data, int(args['clip']), SLOTS_LIST[1], reset=(i==0))\n",
    "        model.optimize(args['clip'])\n",
    "        pbar.set_description(model.print_loss())\n",
    "        # print(data)\n",
    "        # exit(1)\n",
    "\n",
    "    if((epoch+1) % int(args['evalp']) == 0):\n",
    "        \n",
    "        acc = model.evaluate(dev, avg_best, SLOTS_LIST[2], early_stop)\n",
    "        model.scheduler.step(acc)\n",
    "\n",
    "        if(acc >= avg_best):\n",
    "            avg_best = acc\n",
    "            cnt=0\n",
    "            best_model = model\n",
    "        else:\n",
    "            cnt+=1\n",
    "\n",
    "        if(cnt == args[\"patience\"] or (acc==1.0 and early_stop==None)): \n",
    "            print(\"Ran out of patient, early stop...\")  \n",
    "            break "
   ]
  }
 ],
 "metadata": {
  "kernelspec": {
   "display_name": "Python 3",
   "language": "python",
   "name": "python3"
  },
  "language_info": {
   "codemirror_mode": {
    "name": "ipython",
    "version": 3
   },
   "file_extension": ".py",
   "mimetype": "text/x-python",
   "name": "python",
   "nbconvert_exporter": "python",
   "pygments_lexer": "ipython3",
   "version": "3.8.8"
  }
 },
 "nbformat": 4,
 "nbformat_minor": 5
}
